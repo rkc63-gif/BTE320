{
  "nbformat": 4,
  "nbformat_minor": 0,
  "metadata": {
    "colab": {
      "provenance": [],
      "authorship_tag": "ABX9TyNGD2DNA0eTtdZ790SiL5OH",
      "include_colab_link": true
    },
    "kernelspec": {
      "name": "python3",
      "display_name": "Python 3"
    },
    "language_info": {
      "name": "python"
    }
  },
  "cells": [
    {
      "cell_type": "markdown",
      "metadata": {
        "id": "view-in-github",
        "colab_type": "text"
      },
      "source": [
        "<a href=\"https://colab.research.google.com/github/rkc63-gif/BTE320/blob/main/InClassAssignments.ipynb\" target=\"_parent\"><img src=\"https://colab.research.google.com/assets/colab-badge.svg\" alt=\"Open In Colab\"/></a>"
      ]
    },
    {
      "cell_type": "code",
      "execution_count": 27,
      "metadata": {
        "colab": {
          "base_uri": "https://localhost:8080/"
        },
        "id": "CtrvrmK8VFFo",
        "outputId": "52bb115d-f799-4af7-ff4f-355f4ec0c0ad"
      },
      "outputs": [
        {
          "output_type": "stream",
          "name": "stdout",
          "text": [
            "Hello\n",
            "\n",
            "Enter sales ($): 12000\n",
            "Enter tax rate (%): 30\n",
            "Sales: $12000.0\n",
            "Cost of Goods Sold: $4800.0\n",
            "Gross Profit: $7200.0\n",
            "Taxes: $2160.0\n",
            "Net Income: $5040.0\n"
          ]
        }
      ],
      "source": [
        "print(\"Hello\");\n",
        "\n",
        "print(\"\")\n",
        "# 9/2/25 - Income Statement\n",
        "\n",
        "sales = float(input(\"Enter sales ($): \"))\n",
        "COGS = float(sales * 0.4);\n",
        "gProf = float(sales - COGS);\n",
        "taxRate = float(input(\"Enter tax rate (%): \"))\n",
        "taxRate = taxRate * 0.01\n",
        "tax = float(gProf * taxRate)\n",
        "netIncome = float(gProf - tax)\n",
        "\n",
        "print(f\"Sales: ${sales}\")\n",
        "print(f\"Cost of Goods Sold: ${COGS}\")\n",
        "print(f\"Gross Profit: ${gProf}\")\n",
        "print(f\"Taxes: ${tax}\")\n",
        "print(f\"Net Income: ${netIncome}\")"
      ]
    }
  ]
}