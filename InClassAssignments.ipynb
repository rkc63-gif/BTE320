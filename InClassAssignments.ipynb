{
  "nbformat": 4,
  "nbformat_minor": 0,
  "metadata": {
    "colab": {
      "provenance": [],
      "authorship_tag": "ABX9TyOp5MJsI3N7I2QCRoCOcSqR",
      "include_colab_link": true
    },
    "kernelspec": {
      "name": "python3",
      "display_name": "Python 3"
    },
    "language_info": {
      "name": "python"
    }
  },
  "cells": [
    {
      "cell_type": "markdown",
      "metadata": {
        "id": "view-in-github",
        "colab_type": "text"
      },
      "source": [
        "<a href=\"https://colab.research.google.com/github/rkc63-gif/BTE320/blob/main/InClassAssignments.ipynb\" target=\"_parent\"><img src=\"https://colab.research.google.com/assets/colab-badge.svg\" alt=\"Open In Colab\"/></a>"
      ]
    },
    {
      "cell_type": "code",
      "execution_count": null,
      "metadata": {
        "colab": {
          "base_uri": "https://localhost:8080/"
        },
        "id": "CtrvrmK8VFFo",
        "outputId": "52bb115d-f799-4af7-ff4f-355f4ec0c0ad"
      },
      "outputs": [
        {
          "output_type": "stream",
          "name": "stdout",
          "text": [
            "Hello\n",
            "\n",
            "Enter sales ($): 12000\n",
            "Enter tax rate (%): 30\n",
            "Sales: $12000.0\n",
            "Cost of Goods Sold: $4800.0\n",
            "Gross Profit: $7200.0\n",
            "Taxes: $2160.0\n",
            "Net Income: $5040.0\n"
          ]
        }
      ],
      "source": [
        "print(\"Hello\");\n",
        "\n",
        "print(\"\")\n",
        "# 9/2/25 - Income Statement\n",
        "\n",
        "sales = float(input(\"Enter sales ($): \"))\n",
        "COGS = float(sales * 0.4);\n",
        "gProf = float(sales - COGS);\n",
        "taxRate = float(input(\"Enter tax rate (%): \"))\n",
        "taxRate = taxRate * 0.01\n",
        "tax = float(gProf * taxRate)\n",
        "netIncome = float(gProf - tax)\n",
        "\n",
        "print(f\"Sales: ${sales}\")\n",
        "print(f\"Cost of Goods Sold: ${COGS}\")\n",
        "print(f\"Gross Profit: ${gProf}\")\n",
        "print(f\"Taxes: ${tax}\")\n",
        "print(f\"Net Income: ${netIncome}\")"
      ]
    },
    {
      "cell_type": "code",
      "source": [
        "x = 12\n",
        "\n",
        "if x%2 == 0:\n",
        "  if x%3 == 0:\n",
        "    print('x is divisible by both 2 and 3.')\n",
        "  else:\n",
        "    print('x is divisible by 2 but not by 3.')\n",
        "elif x%3 == 0:\n",
        "  print('x is divisible by 3 but not by 2.')\n",
        "else:\n",
        "  print('x is not divisible by 2 or 3.')\n",
        "\n",
        "# or you can do this\n",
        "\n",
        "print(\"\")\n",
        "\n",
        "x = 9\n",
        "\n",
        "if x%2 == 0 and x%3 == 0:\n",
        "  print('x is divisible by both 2 and 3.')\n",
        "elif x%2 == 0:\n",
        "  print('x is divisible by 2 but not 3.')\n",
        "elif x%3 == 0:\n",
        "  print('x is divisible by 3 but not 2.')\n",
        "else:\n",
        "  print('x is not divisible by 2 or 3.')"
      ],
      "metadata": {
        "colab": {
          "base_uri": "https://localhost:8080/"
        },
        "id": "s1RkGApPaRDA",
        "outputId": "b83b576b-9b00-4459-aabf-2a2525b5b4c1"
      },
      "execution_count": null,
      "outputs": [
        {
          "output_type": "stream",
          "name": "stdout",
          "text": [
            "x is divisible by both 2 and 3.\n",
            "\n",
            "x is divisible by 3 but not 2.\n"
          ]
        }
      ]
    },
    {
      "cell_type": "code",
      "source": [
        "import math\n",
        "\n",
        "d = input(\"Enter Annual Demand (units/year): \")\n",
        "d = float(d)\n",
        "\n",
        "r = input(\"Enter Reorder Cost ($/order): \")\n",
        "r = float(r)\n",
        "\n",
        "h = input(\"Enter Holding Cost ($/unit/year): \")\n",
        "h = float(h)\n",
        "\n",
        "EOQ = (2 * d * r / h) ** (1/2)\n",
        "\n",
        "print(f\"Annual Demand: {d}\")\n",
        "print(f\"Reorder Cost: ${r}\")\n",
        "print(f\"Holding Cost: ${h}\")\n",
        "print(f\"EOQ: ${EOQ}\")"
      ],
      "metadata": {
        "colab": {
          "base_uri": "https://localhost:8080/"
        },
        "id": "y8s2ZGHsaXbV",
        "outputId": "46e659ef-1e43-4fdf-ce7c-19fae88e5616"
      },
      "execution_count": null,
      "outputs": [
        {
          "output_type": "stream",
          "name": "stdout",
          "text": [
            "Enter Annual Demand (units/year): 30\n",
            "Enter Reorder Cost ($/order): 50\n",
            "Enter Holding Cost ($/unit/year): 20\n",
            "Annual Demand: 30.0\n",
            "Reorder Cost: $50.0\n",
            "Holding Cost: $20.0\n",
            "EOQ: $12.24744871391589\n"
          ]
        }
      ]
    },
    {
      "cell_type": "code",
      "source": [
        "print(\"# of hours\\tFee\")\n",
        "print(\"--------------------\")\n",
        "for hours in range(1, 9):\n",
        "  print(f\"{hours}\\t\\t{5 + hours * 2.5}\")\n",
        "\n",
        "  # you can format range as range(start, stop, step)\n",
        "  #\\t for formatting convenience (not necessary)\n"
      ],
      "metadata": {
        "colab": {
          "base_uri": "https://localhost:8080/"
        },
        "id": "mxZ1WOiScPwD",
        "outputId": "48afaf94-cf4b-4261-f546-f4451abb4b12"
      },
      "execution_count": null,
      "outputs": [
        {
          "output_type": "stream",
          "name": "stdout",
          "text": [
            "# of hours\tFee\n",
            "--------------------\n",
            "1\t\t7.5\n",
            "2\t\t10.0\n",
            "3\t\t12.5\n",
            "4\t\t15.0\n",
            "5\t\t17.5\n",
            "6\t\t20.0\n",
            "7\t\t22.5\n",
            "8\t\t25.0\n"
          ]
        }
      ]
    },
    {
      "cell_type": "code",
      "source": [
        "print(\"# of hours\\tFee\")\n",
        "print(\"--------------------\")\n",
        "for hours in range(1, 9):\n",
        "  fee = 5 + hours * 2.5\n",
        "  x = fee\n",
        "  if x < 10:\n",
        "    fee = 10.0\n",
        "  elif x > 20:\n",
        "    fee = 20.0\n",
        "  print(f\"{hours}\\t\\t{fee}\")\n",
        "\n",
        "  # my version of the bonus (minimum fee of 10 and max of 20)"
      ],
      "metadata": {
        "colab": {
          "base_uri": "https://localhost:8080/"
        },
        "id": "UZWJVFxmg418",
        "outputId": "d06347ab-8a65-4ce4-f680-62ab77d8ab0d"
      },
      "execution_count": null,
      "outputs": [
        {
          "output_type": "stream",
          "name": "stdout",
          "text": [
            "# of hours\tFee\n",
            "--------------------\n",
            "1\t\t10.0\n",
            "2\t\t10.0\n",
            "3\t\t12.5\n",
            "4\t\t15.0\n",
            "5\t\t17.5\n",
            "6\t\t20.0\n",
            "7\t\t20.0\n",
            "8\t\t20.0\n"
          ]
        }
      ]
    },
    {
      "cell_type": "code",
      "source": [
        "# while loop\n",
        "num = 1\n",
        "while num < 4:\n",
        "  print(num, num ** 2)\n",
        "  num = num + 1"
      ],
      "metadata": {
        "colab": {
          "base_uri": "https://localhost:8080/"
        },
        "id": "Dta0WboZmF41",
        "outputId": "8d9f32ac-ea9c-4ff4-bbfe-58287f971f1b"
      },
      "execution_count": 20,
      "outputs": [
        {
          "output_type": "stream",
          "name": "stdout",
          "text": [
            "1 1\n",
            "2 4\n",
            "3 9\n"
          ]
        }
      ]
    },
    {
      "cell_type": "code",
      "source": [
        "# while loop with input\n",
        "\n",
        "num = float(input(\"Enter a number: \"))\n",
        "\n",
        "while num != 0:\n",
        "  num = float(input(\"Enter a number: \"))"
      ],
      "metadata": {
        "colab": {
          "base_uri": "https://localhost:8080/"
        },
        "id": "-EDw9uxsoQj3",
        "outputId": "d76795d6-0bba-4e7f-f61d-a4382e308cb5"
      },
      "execution_count": 21,
      "outputs": [
        {
          "name": "stdout",
          "output_type": "stream",
          "text": [
            "Enter a number: 1\n",
            "Enter a number: 2\n",
            "Enter a number: 3\n",
            "Enter a number: 0\n"
          ]
        }
      ]
    }
  ]
}