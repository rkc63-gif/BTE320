{
  "nbformat": 4,
  "nbformat_minor": 0,
  "metadata": {
    "colab": {
      "provenance": [],
      "authorship_tag": "ABX9TyP9+6I/sPRhz1zYyfU6ll3+",
      "include_colab_link": true
    },
    "kernelspec": {
      "name": "python3",
      "display_name": "Python 3"
    },
    "language_info": {
      "name": "python"
    }
  },
  "cells": [
    {
      "cell_type": "markdown",
      "metadata": {
        "id": "view-in-github",
        "colab_type": "text"
      },
      "source": [
        "<a href=\"https://colab.research.google.com/github/rkc63-gif/BTE320/blob/main/InClassAssignments.ipynb\" target=\"_parent\"><img src=\"https://colab.research.google.com/assets/colab-badge.svg\" alt=\"Open In Colab\"/></a>"
      ]
    },
    {
      "cell_type": "code",
      "execution_count": null,
      "metadata": {
        "colab": {
          "base_uri": "https://localhost:8080/"
        },
        "id": "CtrvrmK8VFFo",
        "outputId": "52bb115d-f799-4af7-ff4f-355f4ec0c0ad"
      },
      "outputs": [
        {
          "output_type": "stream",
          "name": "stdout",
          "text": [
            "Hello\n",
            "\n",
            "Enter sales ($): 12000\n",
            "Enter tax rate (%): 30\n",
            "Sales: $12000.0\n",
            "Cost of Goods Sold: $4800.0\n",
            "Gross Profit: $7200.0\n",
            "Taxes: $2160.0\n",
            "Net Income: $5040.0\n"
          ]
        }
      ],
      "source": [
        "print(\"Hello\");\n",
        "\n",
        "print(\"\")\n",
        "# 9/2/25 - Income Statement\n",
        "\n",
        "sales = float(input(\"Enter sales ($): \"))\n",
        "COGS = float(sales * 0.4);\n",
        "gProf = float(sales - COGS);\n",
        "taxRate = float(input(\"Enter tax rate (%): \"))\n",
        "taxRate = taxRate * 0.01\n",
        "tax = float(gProf * taxRate)\n",
        "netIncome = float(gProf - tax)\n",
        "\n",
        "print(f\"Sales: ${sales}\")\n",
        "print(f\"Cost of Goods Sold: ${COGS}\")\n",
        "print(f\"Gross Profit: ${gProf}\")\n",
        "print(f\"Taxes: ${tax}\")\n",
        "print(f\"Net Income: ${netIncome}\")"
      ]
    },
    {
      "cell_type": "code",
      "source": [
        "x = 12\n",
        "\n",
        "if x%2 == 0:\n",
        "  if x%3 == 0:\n",
        "    print('x is divisible by both 2 and 3.')\n",
        "  else:\n",
        "    print('x is divisible by 2 but not by 3.')\n",
        "elif x%3 == 0:\n",
        "  print('x is divisible by 3 but not by 2.')\n",
        "else:\n",
        "  print('x is not divisible by 2 or 3.')\n",
        "\n",
        "# or you can do this\n",
        "\n",
        "print(\"\")\n",
        "\n",
        "x = 9\n",
        "\n",
        "if x%2 == 0 and x%3 == 0:\n",
        "  print('x is divisible by both 2 and 3.')\n",
        "elif x%2 == 0:\n",
        "  print('x is divisible by 2 but not 3.')\n",
        "elif x%3 == 0:\n",
        "  print('x is divisible by 3 but not 2.')\n",
        "else:\n",
        "  print('x is not divisible by 2 or 3.')"
      ],
      "metadata": {
        "colab": {
          "base_uri": "https://localhost:8080/"
        },
        "id": "s1RkGApPaRDA",
        "outputId": "b83b576b-9b00-4459-aabf-2a2525b5b4c1"
      },
      "execution_count": null,
      "outputs": [
        {
          "output_type": "stream",
          "name": "stdout",
          "text": [
            "x is divisible by both 2 and 3.\n",
            "\n",
            "x is divisible by 3 but not 2.\n"
          ]
        }
      ]
    },
    {
      "cell_type": "code",
      "source": [
        "import math\n",
        "\n",
        "d = input(\"Enter Annual Demand (units/year): \")\n",
        "d = float(d)\n",
        "\n",
        "r = input(\"Enter Reorder Cost ($/order): \")\n",
        "r = float(r)\n",
        "\n",
        "h = input(\"Enter Holding Cost ($/unit/year): \")\n",
        "h = float(h)\n",
        "\n",
        "EOQ = (2 * d * r / h) ** (1/2)\n",
        "\n",
        "print(f\"Annual Demand: {d}\")\n",
        "print(f\"Reorder Cost: ${r}\")\n",
        "print(f\"Holding Cost: ${h}\")\n",
        "print(f\"EOQ: ${EOQ}\")"
      ],
      "metadata": {
        "colab": {
          "base_uri": "https://localhost:8080/"
        },
        "id": "y8s2ZGHsaXbV",
        "outputId": "46e659ef-1e43-4fdf-ce7c-19fae88e5616"
      },
      "execution_count": null,
      "outputs": [
        {
          "output_type": "stream",
          "name": "stdout",
          "text": [
            "Enter Annual Demand (units/year): 30\n",
            "Enter Reorder Cost ($/order): 50\n",
            "Enter Holding Cost ($/unit/year): 20\n",
            "Annual Demand: 30.0\n",
            "Reorder Cost: $50.0\n",
            "Holding Cost: $20.0\n",
            "EOQ: $12.24744871391589\n"
          ]
        }
      ]
    },
    {
      "cell_type": "code",
      "source": [
        "print(\"# of hours\\tFee\")\n",
        "print(\"--------------------\")\n",
        "for hours in range(1, 9):\n",
        "  print(f\"{hours}\\t\\t{5 + hours * 2.5}\")\n",
        "\n",
        "  # you can format range as range(start, stop, step)\n",
        "  #\\t for formatting convenience (not necessary)\n"
      ],
      "metadata": {
        "colab": {
          "base_uri": "https://localhost:8080/"
        },
        "id": "mxZ1WOiScPwD",
        "outputId": "48afaf94-cf4b-4261-f546-f4451abb4b12"
      },
      "execution_count": null,
      "outputs": [
        {
          "output_type": "stream",
          "name": "stdout",
          "text": [
            "# of hours\tFee\n",
            "--------------------\n",
            "1\t\t7.5\n",
            "2\t\t10.0\n",
            "3\t\t12.5\n",
            "4\t\t15.0\n",
            "5\t\t17.5\n",
            "6\t\t20.0\n",
            "7\t\t22.5\n",
            "8\t\t25.0\n"
          ]
        }
      ]
    },
    {
      "cell_type": "code",
      "source": [
        "print(\"# of hours\\tFee\")\n",
        "print(\"--------------------\")\n",
        "for hours in range(1, 9):\n",
        "  fee = 5 + hours * 2.5\n",
        "  x = fee\n",
        "  if x < 10:\n",
        "    fee = 10.0\n",
        "  elif x > 20:\n",
        "    fee = 20.0\n",
        "  print(f\"{hours}\\t\\t{fee}\")\n",
        "\n",
        "  # my version of the bonus (minimum fee of 10 and max of 20)"
      ],
      "metadata": {
        "colab": {
          "base_uri": "https://localhost:8080/"
        },
        "id": "UZWJVFxmg418",
        "outputId": "d06347ab-8a65-4ce4-f680-62ab77d8ab0d"
      },
      "execution_count": null,
      "outputs": [
        {
          "output_type": "stream",
          "name": "stdout",
          "text": [
            "# of hours\tFee\n",
            "--------------------\n",
            "1\t\t10.0\n",
            "2\t\t10.0\n",
            "3\t\t12.5\n",
            "4\t\t15.0\n",
            "5\t\t17.5\n",
            "6\t\t20.0\n",
            "7\t\t20.0\n",
            "8\t\t20.0\n"
          ]
        }
      ]
    },
    {
      "cell_type": "code",
      "source": [
        "# while loop\n",
        "num = 1\n",
        "while num < 4:\n",
        "  print(num, num ** 2)\n",
        "  num = num + 1"
      ],
      "metadata": {
        "colab": {
          "base_uri": "https://localhost:8080/"
        },
        "id": "Dta0WboZmF41",
        "outputId": "8d9f32ac-ea9c-4ff4-bbfe-58287f971f1b"
      },
      "execution_count": null,
      "outputs": [
        {
          "output_type": "stream",
          "name": "stdout",
          "text": [
            "1 1\n",
            "2 4\n",
            "3 9\n"
          ]
        }
      ]
    },
    {
      "cell_type": "code",
      "source": [
        "# while loop with input\n",
        "\n",
        "num = float(input(\"Enter a number: \"))\n",
        "\n",
        "while num != 0:\n",
        "  num = float(input(\"Enter a number: \"))"
      ],
      "metadata": {
        "colab": {
          "base_uri": "https://localhost:8080/"
        },
        "id": "-EDw9uxsoQj3",
        "outputId": "d76795d6-0bba-4e7f-f61d-a4382e308cb5"
      },
      "execution_count": null,
      "outputs": [
        {
          "name": "stdout",
          "output_type": "stream",
          "text": [
            "Enter a number: 1\n",
            "Enter a number: 2\n",
            "Enter a number: 3\n",
            "Enter a number: 0\n"
          ]
        }
      ]
    },
    {
      "cell_type": "code",
      "source": [
        "# rounding and for loop\n",
        "\n",
        "print(\"Ad, $Profit\")\n",
        "for Ad in range(0, 201, 25):\n",
        "  revenue = (20 + 2 * Ad ** .5) * 10\n",
        "  cost = 200 + Ad\n",
        "  profit = revenue - cost\n",
        "  print(Ad, round(profit, 2))"
      ],
      "metadata": {
        "colab": {
          "base_uri": "https://localhost:8080/"
        },
        "id": "ouzs_4X_vNgM",
        "outputId": "630211f1-1d9a-450e-eb73-3e3dd1712413"
      },
      "execution_count": null,
      "outputs": [
        {
          "output_type": "stream",
          "name": "stdout",
          "text": [
            "Ad, $Profit\n",
            "0 0.0\n",
            "25 75.0\n",
            "50 91.42\n",
            "75 98.21\n",
            "100 100.0\n",
            "125 98.61\n",
            "150 94.95\n",
            "175 89.58\n",
            "200 82.84\n"
          ]
        }
      ]
    },
    {
      "cell_type": "code",
      "source": [
        "# Lists\n",
        "\n",
        "L = []\n",
        "\n",
        "L.append('abc')\n",
        "print(L)\n",
        "\n",
        "L.extend('abc')\n",
        "print(L)\n",
        "\n",
        "N = [9, 4, 7, 10, 2, 11]\n",
        "\n",
        "N.sort()\n",
        "print(N)\n",
        "\n",
        "N.pop(1)\n",
        "print(N)"
      ],
      "metadata": {
        "colab": {
          "base_uri": "https://localhost:8080/"
        },
        "id": "HKLQCIUwxGWF",
        "outputId": "17eced36-f542-4734-b014-d7f19754aaa8"
      },
      "execution_count": null,
      "outputs": [
        {
          "output_type": "stream",
          "name": "stdout",
          "text": [
            "['abc']\n",
            "['abc', 'a', 'b', 'c']\n",
            "[2, 4, 7, 9, 10, 11]\n",
            "[2, 7, 9, 10, 11]\n"
          ]
        }
      ]
    },
    {
      "cell_type": "code",
      "source": [
        "# while loop + list\n",
        "\n",
        "L = []\n",
        "inputNum = int(input(\"Enter a number to add to the list: \"))\n",
        "\n",
        "while inputNum != 0:\n",
        "  L.append(inputNum)\n",
        "  inputNum = int(input(\"Add another: \"))\n",
        "  L.sort(reverse=True)\n",
        "\n",
        "print(L)\n",
        "\n",
        "# more list functions for int\n",
        "\n",
        "print()\n",
        "print(max(L))\n",
        "print(min(L))\n",
        "print(sum(L))\n",
        "sum(L) / len(L)"
      ],
      "metadata": {
        "colab": {
          "base_uri": "https://localhost:8080/"
        },
        "id": "LzYRRZ9Yy5ov",
        "outputId": "7c8e3fc4-66de-40d1-cd3e-79ad51f7cd5f"
      },
      "execution_count": null,
      "outputs": [
        {
          "output_type": "stream",
          "name": "stdout",
          "text": [
            "Enter a number to add to the list: 100\n",
            "Add another: 25\n",
            "Add another: 25\n",
            "Add another: 30\n",
            "Add another: 20\n",
            "Add another: 0\n",
            "[100, 30, 25, 25, 20]\n",
            "\n",
            "100\n",
            "20\n",
            "200\n"
          ]
        },
        {
          "output_type": "execute_result",
          "data": {
            "text/plain": [
              "40.0"
            ]
          },
          "metadata": {},
          "execution_count": 20
        }
      ]
    },
    {
      "cell_type": "code",
      "source": [
        "# tuples\n",
        "\n",
        "t=(1, 2, 3)\n",
        "print(len(t))\n",
        "print(t[2])\n",
        "print(t[:2])\n",
        "print()\n",
        "\n",
        "k = (1, 3, 5) + ('a', 'b', 'c')\n",
        "print(k)\n",
        "3 * (1, 2)"
      ],
      "metadata": {
        "colab": {
          "base_uri": "https://localhost:8080/"
        },
        "id": "tIC82mo75SfO",
        "outputId": "199a07bc-227e-4279-d04c-0482d29c4a75"
      },
      "execution_count": null,
      "outputs": [
        {
          "output_type": "stream",
          "name": "stdout",
          "text": [
            "3\n",
            "3\n",
            "(1, 2)\n",
            "\n",
            "(1, 3, 5, 'a', 'b', 'c')\n"
          ]
        },
        {
          "output_type": "execute_result",
          "data": {
            "text/plain": [
              "(1, 2, 1, 2, 1, 2)"
            ]
          },
          "metadata": {},
          "execution_count": 22
        }
      ]
    },
    {
      "cell_type": "code",
      "source": [
        "# dictionary\n",
        "\n",
        "d = {\n",
        "    'Bob': 95,\n",
        "    'Alice': 98,\n",
        "    'Eve': 90\n",
        "  }\n",
        "print(len(d))\n",
        "print(d['Alice'])\n",
        "print(d)\n",
        "print()\n",
        "\n",
        "# change values\n",
        "d['Eve'] = 95\n",
        "print(d)\n",
        "print()\n",
        "\n",
        "# check values, keys, values, items\n",
        "print('David' in d)\n",
        "print(d.keys())\n",
        "print(d.values())\n",
        "print(d.items())"
      ],
      "metadata": {
        "colab": {
          "base_uri": "https://localhost:8080/"
        },
        "id": "72eRkTwb9XJS",
        "outputId": "148fafd3-c91c-4e2c-9d95-ffcffd80bd2d"
      },
      "execution_count": null,
      "outputs": [
        {
          "output_type": "stream",
          "name": "stdout",
          "text": [
            "3\n",
            "98\n",
            "{'Bob': 95, 'Alice': 98, 'Eve': 90}\n",
            "\n",
            "{'Bob': 95, 'Alice': 98, 'Eve': 95}\n",
            "\n",
            "False\n",
            "dict_keys(['Bob', 'Alice', 'Eve'])\n",
            "dict_values([95, 98, 95])\n",
            "dict_items([('Bob', 95), ('Alice', 98), ('Eve', 95)])\n"
          ]
        }
      ]
    },
    {
      "cell_type": "code",
      "source": [
        "d={\n",
        "    'Jordan': 50,\n",
        "    'Maria': 35,\n",
        "    'Matteo': 42\n",
        "}\n",
        "\n",
        "d['Steve'] = 92\n",
        "print(d)\n",
        "print()\n",
        "\n",
        "for key in d.keys():\n",
        "  d[key] = d[key] + 2\n",
        "\n",
        "print(d)"
      ],
      "metadata": {
        "colab": {
          "base_uri": "https://localhost:8080/"
        },
        "id": "1RwulTRjiazH",
        "outputId": "22292b0e-2037-41fb-ceb4-30866237fbac"
      },
      "execution_count": 4,
      "outputs": [
        {
          "output_type": "stream",
          "name": "stdout",
          "text": [
            "{'Jordan': 50, 'Maria': 35, 'Matteo': 42, 'Steve': 92}\n",
            "\n",
            "{'Jordan': 52, 'Maria': 37, 'Matteo': 44, 'Steve': 94}\n"
          ]
        }
      ]
    },
    {
      "cell_type": "code",
      "source": [
        "clients = {\n",
        "    'jdoe@aol.com': {\n",
        "        'First': 'John',\n",
        "        'Last': 'Doe',\n",
        "        'Username': 'joe123',\n",
        "        'Password': '&^&$&^$',\n",
        "    }\n",
        "}"
      ],
      "metadata": {
        "id": "tToBe82tmhpF"
      },
      "execution_count": null,
      "outputs": []
    },
    {
      "cell_type": "code",
      "source": [
        "import random\n",
        "\n",
        "def play_game():\n",
        "    options = [\"rock\", \"paper\", \"scissors\"]\n",
        "\n",
        "    while True:\n",
        "        # Ask user if they want to play\n",
        "        start = input(\"Do you want to play Rock, Paper, Scissors? (yes to continue, anything else to quit): \").strip().lower()\n",
        "        if start != \"yes\":\n",
        "            print(\"Thanks for playing! Goodbye.\")\n",
        "            break\n",
        "\n",
        "        # Get user choice\n",
        "        user_choice = input(\"Enter your choice (rock, paper, or scissors): \").strip().lower()\n",
        "        if user_choice not in options:\n",
        "            print(\"Invalid choice. Please select rock, paper, or scissors.\")\n",
        "            continue\n",
        "\n",
        "        # Computer choice\n",
        "        computer_choice = random.choice(options)\n",
        "        print(f\"The computer chose: {computer_choice}\")\n",
        "\n",
        "        # Determine winner\n",
        "        if user_choice == computer_choice:\n",
        "            print(\"It's a tie!\")\n",
        "        elif (\n",
        "            (user_choice == \"rock\" and computer_choice == \"scissors\") or\n",
        "            (user_choice == \"paper\" and computer_choice == \"rock\") or\n",
        "            (user_choice == \"scissors\" and computer_choice == \"paper\")\n",
        "        ):\n",
        "            print(\"You win!\")\n",
        "        else:\n",
        "            print(\"Computer wins!\")\n",
        "\n",
        "        print()  # blank line for readability\n",
        "\n",
        "# Run the game\n",
        "play_game()\n"
      ],
      "metadata": {
        "colab": {
          "base_uri": "https://localhost:8080/"
        },
        "id": "I9TohWpzoNgx",
        "outputId": "b28c34a1-7f2e-479a-c124-8f69c4861a93"
      },
      "execution_count": 5,
      "outputs": [
        {
          "output_type": "stream",
          "name": "stdout",
          "text": [
            "Do you want to play Rock, Paper, Scissors? (yes to continue, anything else to quit): yes\n",
            "Enter your choice (rock, paper, or scissors): paper\n",
            "The computer chose: scissors\n",
            "Computer wins!\n",
            "\n",
            "Do you want to play Rock, Paper, Scissors? (yes to continue, anything else to quit): yes\n",
            "Enter your choice (rock, paper, or scissors): rock\n",
            "The computer chose: paper\n",
            "Computer wins!\n",
            "\n",
            "Do you want to play Rock, Paper, Scissors? (yes to continue, anything else to quit): yes\n",
            "Enter your choice (rock, paper, or scissors): scissors\n",
            "The computer chose: scissors\n",
            "It's a tie!\n",
            "\n",
            "Do you want to play Rock, Paper, Scissors? (yes to continue, anything else to quit): yes\n",
            "Enter your choice (rock, paper, or scissors): rock\n",
            "The computer chose: paper\n",
            "Computer wins!\n",
            "\n",
            "Do you want to play Rock, Paper, Scissors? (yes to continue, anything else to quit): yes\n",
            "Enter your choice (rock, paper, or scissors): rock\n",
            "The computer chose: paper\n",
            "Computer wins!\n",
            "\n",
            "Do you want to play Rock, Paper, Scissors? (yes to continue, anything else to quit): yes\n",
            "Enter your choice (rock, paper, or scissors): rock\n",
            "The computer chose: scissors\n",
            "You win!\n",
            "\n",
            "Do you want to play Rock, Paper, Scissors? (yes to continue, anything else to quit): no\n",
            "Thanks for playing! Goodbye.\n"
          ]
        }
      ]
    }
  ]
}