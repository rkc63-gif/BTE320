{
  "nbformat": 4,
  "nbformat_minor": 0,
  "metadata": {
    "colab": {
      "provenance": [],
      "authorship_tag": "ABX9TyOgh2bE6ax2KZF6gaK0eBuh",
      "include_colab_link": true
    },
    "kernelspec": {
      "name": "python3",
      "display_name": "Python 3"
    },
    "language_info": {
      "name": "python"
    }
  },
  "cells": [
    {
      "cell_type": "markdown",
      "metadata": {
        "id": "view-in-github",
        "colab_type": "text"
      },
      "source": [
        "<a href=\"https://colab.research.google.com/github/rkc63-gif/BTE320/blob/main/InClassAssignments.ipynb\" target=\"_parent\"><img src=\"https://colab.research.google.com/assets/colab-badge.svg\" alt=\"Open In Colab\"/></a>"
      ]
    },
    {
      "cell_type": "code",
      "execution_count": null,
      "metadata": {
        "colab": {
          "base_uri": "https://localhost:8080/"
        },
        "id": "CtrvrmK8VFFo",
        "outputId": "52bb115d-f799-4af7-ff4f-355f4ec0c0ad"
      },
      "outputs": [
        {
          "output_type": "stream",
          "name": "stdout",
          "text": [
            "Hello\n",
            "\n",
            "Enter sales ($): 12000\n",
            "Enter tax rate (%): 30\n",
            "Sales: $12000.0\n",
            "Cost of Goods Sold: $4800.0\n",
            "Gross Profit: $7200.0\n",
            "Taxes: $2160.0\n",
            "Net Income: $5040.0\n"
          ]
        }
      ],
      "source": [
        "print(\"Hello\");\n",
        "\n",
        "print(\"\")\n",
        "# 9/2/25 - Income Statement\n",
        "\n",
        "sales = float(input(\"Enter sales ($): \"))\n",
        "COGS = float(sales * 0.4);\n",
        "gProf = float(sales - COGS);\n",
        "taxRate = float(input(\"Enter tax rate (%): \"))\n",
        "taxRate = taxRate * 0.01\n",
        "tax = float(gProf * taxRate)\n",
        "netIncome = float(gProf - tax)\n",
        "\n",
        "print(f\"Sales: ${sales}\")\n",
        "print(f\"Cost of Goods Sold: ${COGS}\")\n",
        "print(f\"Gross Profit: ${gProf}\")\n",
        "print(f\"Taxes: ${tax}\")\n",
        "print(f\"Net Income: ${netIncome}\")"
      ]
    },
    {
      "cell_type": "code",
      "source": [
        "x = 12\n",
        "\n",
        "if x%2 == 0:\n",
        "  if x%3 == 0:\n",
        "    print('x is divisible by both 2 and 3.')\n",
        "  else:\n",
        "    print('x is divisible by 2 but not by 3.')\n",
        "elif x%3 == 0:\n",
        "  print('x is divisible by 3 but not by 2.')\n",
        "else:\n",
        "  print('x is not divisible by 2 or 3.')\n",
        "\n",
        "# or you can do this\n",
        "\n",
        "print(\"\")\n",
        "\n",
        "x = 9\n",
        "\n",
        "if x%2 == 0 and x%3 == 0:\n",
        "  print('x is divisible by both 2 and 3.')\n",
        "elif x%2 == 0:\n",
        "  print('x is divisible by 2 but not 3.')\n",
        "elif x%3 == 0:\n",
        "  print('x is divisible by 3 but not 2.')\n",
        "else:\n",
        "  print('x is not divisible by 2 or 3.')"
      ],
      "metadata": {
        "id": "WVbWORAfcAO2",
        "outputId": "b4781329-5c8a-44f9-bd94-61e6fa50f6a3",
        "colab": {
          "base_uri": "https://localhost:8080/"
        }
      },
      "execution_count": 4,
      "outputs": [
        {
          "output_type": "stream",
          "name": "stdout",
          "text": [
            "x is divisible by both 2 and 3.\n",
            "\n",
            "x is divisible by 3 but not 2.\n"
          ]
        }
      ]
    }
  ]
}